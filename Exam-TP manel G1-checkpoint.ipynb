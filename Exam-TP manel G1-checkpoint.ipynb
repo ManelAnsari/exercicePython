{
 "cells": [
  {
   "cell_type": "code",
   "execution_count": 1,
   "metadata": {},
   "outputs": [
    {
     "name": "stdout",
     "output_type": "stream",
     "text": [
      "donner la taille du sapin4\n",
      "^\n",
      "^^^\n",
      "^^^^^\n"
     ]
    }
   ],
   "source": [
    "#Exercice 1.1\n",
    "n= int(input(\"donner la taille du sapin\"))\n",
    "while(n<0):\n",
    "    n= int(input(\"donner la taille du sapin\"))\n",
    "ch=\"\"\n",
    "if(n>0):\n",
    "    ch=ch+\"^\"\n",
    "    print(ch)\n",
    "\n",
    "for i in range(1,n,2):\n",
    "    ch=ch+\"^^\"\n",
    "    print(ch)"
   ]
  },
  {
   "cell_type": "code",
   "execution_count": 2,
   "metadata": {},
   "outputs": [
    {
     "name": "stdout",
     "output_type": "stream",
     "text": [
      "{'a', 'b', 'c', 'd'}\n",
      "{'s', 'b', 'd'}\n",
      "appartenane de l'élement 'c' a X True\n",
      "appartenane de l'élement 'a' a Y False\n",
      "X-Y =  {'a', 'c'}\n",
      "Y-X =  {'s'}\n",
      "X union Y =  {'d', 'a', 'b', 'c', 's'}\n",
      "X intersaction Y =  {'d', 'b'}\n"
     ]
    }
   ],
   "source": [
    "#Exercice 1.2\n",
    "X={\"a\",\"b\",\"c\",\"d\"}\n",
    "Y={\"s\",\"b\",\"d\"}\n",
    "print(X)\n",
    "print(Y)\n",
    "print(\"appartenane de l'élement 'c' a X\",X.__contains__(\"c\"))\n",
    "print(\"appartenane de l'élement 'a' a Y\",Y.__contains__(\"a\"))\n",
    "print(\"X-Y = \",X-Y)\n",
    "print(\"Y-X = \",Y-X)\n",
    "print(\"X union Y = \",X.union(Y))\n",
    "print(\"X intersaction Y = \",X.intersection(Y))\n"
   ]
  },
  {
   "cell_type": "code",
   "execution_count": 18,
   "metadata": {},
   "outputs": [
    {
     "name": "stdout",
     "output_type": "stream",
     "text": [
      "non premier\n",
      "les diviseursde 20 sont [1, 2, 4, 5, 10]\n",
      "Somme des diviseurs de 20 est 22\n"
     ]
    }
   ],
   "source": [
    "#Exercice 1.3\n",
    "n= int(input(\"donner un entier positive\"))\n",
    "while(n<0):\n",
    "    n= int(input(\"donner un entier positive\"))\n",
    "s=0\n",
    "i=2\n",
    "while(s==0 and i<n):\n",
    "    if(n%i==0):\n",
    "        s+=1\n",
    "        break\n",
    "    else: i+=1\n",
    "if(s==0):\n",
    "    print(\"{} est premier\".format(n))\n",
    "else : \n",
    "    s=0\n",
    "    l=[]\n",
    "    print(\"non premier\")\n",
    "    for i in range(1,n):\n",
    "        if n%i==0:\n",
    "            l.append(i)\n",
    "    print(\"les diviseursde {} sont {}\".format(n,l))\n",
    "    print(\"Somme des diviseurs de {} est {}\".format(n,sum(l)))"
   ]
  },
  {
   "cell_type": "code",
   "execution_count": 20,
   "metadata": {},
   "outputs": [
    {
     "name": "stdout",
     "output_type": "stream",
     "text": [
      "1223 n'est pas distinct\n"
     ]
    }
   ],
   "source": [
    "#Exercice 2\n",
    "def distinct(n):\n",
    "    ch=str(n)\n",
    "    for c in ch:\n",
    "        if(ch.count(c)>1):\n",
    "            return False\n",
    "    return True\n",
    "n= int(input(\"donner un entier positive\"))\n",
    "while(n<0):\n",
    "    n= int(input(\"donner un entier positive\"))\n",
    "if(distinct(n)==True):\n",
    "    print(\"{} est distinct\".format(n))\n",
    "else:\n",
    "    print(\"{} n'est pas distinct\".format(n))"
   ]
  },
  {
   "cell_type": "code",
   "execution_count": 2,
   "metadata": {},
   "outputs": [],
   "source": [
    "#Exercice 3.1\n",
    "def nombreDiviseur(x):\n",
    "    s=0\n",
    "    for i in range(1,x):\n",
    "        if(x%i==0):\n",
    "            s+=1\n",
    "    return s\n",
    "\n",
    "\n"
   ]
  },
  {
   "cell_type": "code",
   "execution_count": 3,
   "metadata": {},
   "outputs": [],
   "source": [
    "#Exercice 3.2\n",
    "def nombreCompose(n):\n",
    "    l=[]\n",
    "    if(n>0):\n",
    "        k=1\n",
    "        l.append(k)\n",
    "        for i in range(0,n-1):\n",
    "            while(True):\n",
    "                if(nombreDiviseur(l[i])<nombreDiviseur(k)):\n",
    "                    l.append(k)\n",
    "                    break\n",
    "                else: \n",
    "                    k+=1\n",
    "    return l"
   ]
  },
  {
   "cell_type": "code",
   "execution_count": 5,
   "metadata": {},
   "outputs": [
    {
     "name": "stdout",
     "output_type": "stream",
     "text": [
      "[1, 2, 4, 6, 12, 24, 36, 48, 60, 120, 180, 240, 360, 720, 840, 1260]\n"
     ]
    }
   ],
   "source": [
    "#Exercice 3.3\n",
    "l=nombreCompose(16)\n",
    "print(l)"
   ]
  }
 ],
 "metadata": {
  "interpreter": {
   "hash": "3538452c4bba0c408730e56615d685ad5da58497f0f246475a966f0fdf309a5f"
  },
  "kernelspec": {
   "display_name": "Python 3",
   "language": "python",
   "name": "python3"
  },
  "language_info": {
   "codemirror_mode": {
    "name": "ipython",
    "version": 3
   },
   "file_extension": ".py",
   "mimetype": "text/x-python",
   "name": "python",
   "nbconvert_exporter": "python",
   "pygments_lexer": "ipython3",
   "version": "3.8.8"
  }
 },
 "nbformat": 4,
 "nbformat_minor": 2
}
